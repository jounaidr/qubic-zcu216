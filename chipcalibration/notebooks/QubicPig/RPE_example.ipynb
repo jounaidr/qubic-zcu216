{
 "cells": [
  {
   "cell_type": "markdown",
   "metadata": {},
   "source": [
    "RPE Calibration examples\n"
   ]
  },
  {
   "cell_type": "code",
   "execution_count": 69,
   "metadata": {
    "ExecuteTime": {
     "end_time": "2023-04-13T10:53:52.686836Z",
     "start_time": "2023-04-13T10:53:52.639805Z"
    }
   },
   "outputs": [
    {
     "ename": "SyntaxError",
     "evalue": "invalid syntax (rpe.py, line 10)",
     "output_type": "error",
     "traceback": [
      "Traceback \u001b[0;36m(most recent call last)\u001b[0m:\n",
      "\u001b[0m  File \u001b[1;32m~/PycharmProjects/Calibration/venv/lib/python3.10/site-packages/IPython/core/interactiveshell.py:3505\u001b[0m in \u001b[1;35mrun_code\u001b[0m\n    exec(code_obj, self.user_global_ns, self.user_ns)\u001b[0m\n",
      "\u001b[0;36m  Cell \u001b[0;32mIn[69], line 1\u001b[0;36m\n\u001b[0;31m    import rpe\u001b[0;36m\n",
      "\u001b[0;36m  File \u001b[0;32m~/PycharmProjects/Calibration/rpe.py:10\u001b[0;36m\u001b[0m\n\u001b[0;31m    from Ch\u001b[0m\n\u001b[0m           ^\u001b[0m\n\u001b[0;31mSyntaxError\u001b[0m\u001b[0;31m:\u001b[0m invalid syntax\n"
     ]
    }
   ],
   "source": [
    "import rpe\n",
    "import pygsti\n",
    "from importlib import reload\n",
    "import numpy as np\n",
    "from pyrpe.src.quapack.pyRPE.quantum import Q as RPE_Experiment"
   ]
  },
  {
   "cell_type": "code",
   "execution_count": 67,
   "metadata": {
    "ExecuteTime": {
     "end_time": "2023-04-13T11:44:14.800295Z",
     "start_time": "2023-04-13T11:44:14.796465Z"
    }
   },
   "outputs": [],
   "source": [
    "ds = pygsti.data.dataset\n",
    "circ = pygsti.circuits.Circuit([('Gxpi2', 0)])"
   ]
  },
  {
   "cell_type": "code",
   "execution_count": null,
   "metadata": {},
   "outputs": [],
   "source": [
    "ds.add_count"
   ]
  },
  {
   "cell_type": "code",
   "execution_count": 55,
   "metadata": {
    "ExecuteTime": {
     "end_time": "2023-04-13T10:53:52.895024Z",
     "start_time": "2023-04-13T10:53:52.886562Z"
    }
   },
   "outputs": [],
   "source": [
    "reload(RPE)\n",
    "rpe = RPE.RpeX90('Q0', 14)"
   ]
  },
  {
   "cell_type": "code",
   "execution_count": 56,
   "metadata": {
    "ExecuteTime": {
     "end_time": "2023-04-13T10:53:53.076655Z",
     "start_time": "2023-04-13T10:53:53.033464Z"
    }
   },
   "outputs": [],
   "source": [
    "rpe._make_pygsti_circuits()"
   ]
  },
  {
   "cell_type": "code",
   "execution_count": 57,
   "metadata": {
    "ExecuteTime": {
     "end_time": "2023-04-13T10:53:53.260690Z",
     "start_time": "2023-04-13T10:53:53.211990Z"
    }
   },
   "outputs": [],
   "source": [
    "#circuit_batch = rpe.make_qubic_circuits(100, 1)"
   ]
  },
  {
   "cell_type": "code",
   "execution_count": 58,
   "metadata": {
    "ExecuteTime": {
     "end_time": "2023-04-13T10:53:53.747260Z",
     "start_time": "2023-04-13T10:53:53.427161Z"
    }
   },
   "outputs": [],
   "source": [
    "cos_ds, sin_ds = rpe.simulate_target(100)"
   ]
  },
  {
   "cell_type": "code",
   "execution_count": 59,
   "metadata": {
    "ExecuteTime": {
     "end_time": "2023-04-13T10:53:53.793569Z",
     "start_time": "2023-04-13T10:53:53.783687Z"
    }
   },
   "outputs": [],
   "source": [
    "results = rpe.process_rpe(cos_ds, sin_ds)"
   ]
  },
  {
   "cell_type": "code",
   "execution_count": 60,
   "metadata": {
    "ExecuteTime": {
     "end_time": "2023-04-13T10:53:53.896343Z",
     "start_time": "2023-04-13T10:53:53.833380Z"
    }
   },
   "outputs": [
    {
     "data": {
      "text/plain": [
       "[1, 2, 4, 8, 16, 32, 64, 128, 256, 512, 1024, 2048, 4096, 8192]"
      ]
     },
     "execution_count": 60,
     "metadata": {},
     "output_type": "execute_result"
    }
   ],
   "source": [
    "rpe.max_depths"
   ]
  },
  {
   "cell_type": "code",
   "execution_count": 61,
   "metadata": {
    "ExecuteTime": {
     "end_time": "2023-04-13T10:53:54.030033Z",
     "start_time": "2023-04-13T10:53:53.976574Z"
    }
   },
   "outputs": [
    {
     "name": "stdout",
     "output_type": "stream",
     "text": [
      "[3.30024792 2.41590895 1.96849474 1.76964553 1.67271661 1.61988371\n",
      " 1.59502756 1.5824445  1.57732158 1.57347875 1.57227178 1.57157308\n",
      " 1.57119445 1.57097591]\n"
     ]
    }
   ],
   "source": [
    "print(results.angle_estimates)"
   ]
  },
  {
   "cell_type": "code",
   "execution_count": 62,
   "metadata": {
    "ExecuteTime": {
     "end_time": "2023-04-13T10:53:54.265887Z",
     "start_time": "2023-04-13T10:53:54.240195Z"
    }
   },
   "outputs": [
    {
     "data": {
      "text/plain": [
       "1.5707963267948966"
      ]
     },
     "execution_count": 62,
     "metadata": {},
     "output_type": "execute_result"
    }
   ],
   "source": [
    "np.pi/2"
   ]
  },
  {
   "cell_type": "code",
   "execution_count": 63,
   "metadata": {
    "ExecuteTime": {
     "end_time": "2023-04-13T10:53:54.695903Z",
     "start_time": "2023-04-13T10:53:54.375759Z"
    }
   },
   "outputs": [
    {
     "name": "stdout",
     "output_type": "stream",
     "text": [
      "[58.0, 100.0, 0.0, 0.0, 0.0, 0.0, 0.0, 0.0, 0.0, 0.0, 0.0, 0.0, 0.0, 0.0]\n"
     ]
    },
    {
     "data": {
      "image/png": "[encoded data removed]",
      "text/plain": [
       "<Figure size 640x480 with 3 Axes>"
      ]
     },
     "metadata": {},
     "output_type": "display_data"
    }
   ],
   "source": [
    "rpe.plot_rpe_verbose(cos_ds, sin_ds)"
   ]
  },
  {
   "cell_type": "code",
   "execution_count": 364,
   "metadata": {
    "ExecuteTime": {
     "end_time": "2023-04-12T19:14:15.202542Z",
     "start_time": "2023-04-12T19:14:15.145100Z"
    }
   },
   "outputs": [],
   "source": []
  },
  {
   "cell_type": "code",
   "execution_count": null,
   "metadata": {
    "ExecuteTime": {
     "end_time": "2023-04-12T19:11:12.676136Z",
     "start_time": "2023-04-12T19:11:12.662864Z"
    }
   },
   "outputs": [],
   "source": [
    "print(ds)"
   ]
  },
  {
   "cell_type": "code",
   "execution_count": 249,
   "metadata": {
    "ExecuteTime": {
     "end_time": "2023-04-12T19:04:32.034494Z",
     "start_time": "2023-04-12T19:04:31.990204Z"
    }
   },
   "outputs": [],
   "source": []
  },
  {
   "cell_type": "code",
   "execution_count": 87,
   "metadata": {
    "ExecuteTime": {
     "end_time": "2023-04-13T16:49:21.499160Z",
     "start_time": "2023-04-13T16:49:21.486923Z"
    }
   },
   "outputs": [],
   "source": [
    "num_shots = 10\n",
    "num_circs = 3\n",
    "num_qbits = 2\n",
    "\n",
    "unsorted_counts = [{i : np.random.randint(0, 2, (num_shots)) for i in range(num_qbits)} for _ in range(num_circs)]\n",
    "count_dict_of_dicts = dict()\n",
    "for circ_idx, circ in enumerate(range(num_circs)):\n",
    "    for shot_idx in range(num_shots):\n",
    "        shot_binary = ''\n",
    "        for qid in range(num_qbits):\n",
    "            shot_binary += str(unsorted_counts[circ_idx][qid][shot_idx])\n",
    "        count_dict_of_dicts[circ]\n"
   ]
  },
  {
   "cell_type": "code",
   "execution_count": null,
   "metadata": {},
   "outputs": [],
   "source": []
  },
  {
   "cell_type": "code",
   "execution_count": 88,
   "metadata": {
    "ExecuteTime": {
     "end_time": "2023-04-13T16:49:27.147638Z",
     "start_time": "2023-04-13T16:49:27.086141Z"
    }
   },
   "outputs": [
    {
     "data": {
      "text/plain": [
       "{0: array([2, 0, 0, 3, 2, 2, 2, 0, 1, 0]),\n",
       " 1: array([1, 1, 1, 0, 0, 3, 3, 2, 0, 3]),\n",
       " 2: array([3, 3, 3, 3, 3, 0, 1, 0, 1, 3])}"
      ]
     },
     "execution_count": 88,
     "metadata": {},
     "output_type": "execute_result"
    }
   ],
   "source": [
    "count_arrays"
   ]
  },
  {
   "cell_type": "code",
   "execution_count": null,
   "metadata": {},
   "outputs": [],
   "source": []
  }
 ],
 "metadata": {
  "kernelspec": {
   "display_name": "Python 3 (ipykernel)",
   "language": "python",
   "name": "python3"
  },
  "language_info": {
   "codemirror_mode": {
    "name": "ipython",
    "version": 3
   },
   "file_extension": ".py",
   "mimetype": "text/x-python",
   "name": "python",
   "nbconvert_exporter": "python",
   "pygments_lexer": "ipython3",
   "version": "3.10.4"
  }
 },
 "nbformat": 4,
 "nbformat_minor": 1
}
