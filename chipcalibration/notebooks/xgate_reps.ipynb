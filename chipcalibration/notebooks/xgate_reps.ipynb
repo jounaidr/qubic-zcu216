{
 "cells": [
  {
   "cell_type": "code",
   "execution_count": 20,
   "id": "47166c0c",
   "metadata": {},
   "outputs": [],
   "source": [
    "#%matplotlib widget #need this for click GUIs\n",
    "import qubic.toolchain as tc\n",
    "import qubic.rpc_client as rc\n",
    "import qubitconfig.qchip as qc\n",
    "from distproc.hwconfig import FPGAConfig, load_channel_configs\n",
    "import numpy as np\n",
    "import matplotlib.pyplot as plt\n",
    "import chipcalibration.rabi_amp_sweep as rabi\n",
    "import chipcalibration.xgate_reps as xreps\n",
    "from importlib import reload\n",
    "import chipcalibration.config as cfg\n",
    "import qubic.state_disc as sd"
   ]
  },
  {
   "cell_type": "code",
   "execution_count": 21,
   "id": "3aa04d5b",
   "metadata": {},
   "outputs": [],
   "source": [
    "fpga_config = FPGAConfig(**{'fpga_clk_period': 2.e-9, 'alu_instr_clks': 5, 'jump_cond_clks': 5, 'jump_fproc_clks': 5, 'pulse_regwrite_clks': 3})\n",
    "\n",
    "qchipname = 'X4Y2'\n",
    "fpga_config, qchip, channel_config = cfg.load_configs(qchipname)"
   ]
  },
  {
   "cell_type": "code",
   "execution_count": 22,
   "id": "10417efd",
   "metadata": {},
   "outputs": [],
   "source": [
    "reload(rc)\n",
    "runner = rc.CircuitRunnerClient(ip='192.168.1.247')"
   ]
  },
  {
   "cell_type": "markdown",
   "id": "0e8953d6",
   "metadata": {},
   "source": [
    "## first, do Rabi amplitude calibration"
   ]
  },
  {
   "cell_type": "code",
   "execution_count": 23,
   "id": "77bd0eb2",
   "metadata": {},
   "outputs": [
    {
     "data": {
      "text/plain": [
       "<module 'chipcalibration.rabi_amp_sweep' from '/home/jpmarceaux/chipcalibration/chipcalibration/rabi_amp_sweep.py'>"
      ]
     },
     "execution_count": 23,
     "metadata": {},
     "output_type": "execute_result"
    }
   ],
   "source": [
    "reload(rabi)"
   ]
  },
  {
   "cell_type": "code",
   "execution_count": 30,
   "id": "0fff9f4b",
   "metadata": {},
   "outputs": [],
   "source": [
    "target_twidth = 24-9\n",
    "target_qubit = 'Q1'"
   ]
  },
  {
   "cell_type": "code",
   "execution_count": 33,
   "id": "ca2d5c81",
   "metadata": {},
   "outputs": [
    {
     "name": "stdout",
     "output_type": "stream",
     "text": [
      "done resolving block\n",
      "done z-resolving block\n",
      "done resolving block\n",
      "done z-resolving block\n",
      "done scheduling\n",
      "Could not compile [{'name': 'delay', 't': 0.0004, 'qubit': ['Q1']}, {'name': 'rabi', 'qubit': ['Q1'], 'modi': {(0, 'amp'): 0.0, (0, 'twidth'): 15}}, {'name': 'barrier', 'qubit': ['Q1']}, {'name': 'read', 'qubit': ['Q1']}]\n",
      "done resolving block\n",
      "done z-resolving block\n",
      "done resolving block\n",
      "done z-resolving block\n",
      "done scheduling\n",
      "Could not compile [{'name': 'delay', 't': 0.0004, 'qubit': ['Q1']}, {'name': 'rabi', 'qubit': ['Q1'], 'modi': {(0, 'amp'): 0.041666666666666664, (0, 'twidth'): 15}}, {'name': 'barrier', 'qubit': ['Q1']}, {'name': 'read', 'qubit': ['Q1']}]\n",
      "done resolving block\n",
      "done z-resolving block\n",
      "done resolving block\n",
      "done z-resolving block\n",
      "done scheduling\n",
      "Could not compile [{'name': 'delay', 't': 0.0004, 'qubit': ['Q1']}, {'name': 'rabi', 'qubit': ['Q1'], 'modi': {(0, 'amp'): 0.08333333333333333, (0, 'twidth'): 15}}, {'name': 'barrier', 'qubit': ['Q1']}, {'name': 'read', 'qubit': ['Q1']}]\n",
      "done resolving block\n",
      "done z-resolving block\n",
      "done resolving block\n",
      "done z-resolving block\n",
      "done scheduling\n",
      "Could not compile [{'name': 'delay', 't': 0.0004, 'qubit': ['Q1']}, {'name': 'rabi', 'qubit': ['Q1'], 'modi': {(0, 'amp'): 0.125, (0, 'twidth'): 15}}, {'name': 'barrier', 'qubit': ['Q1']}, {'name': 'read', 'qubit': ['Q1']}]\n",
      "done resolving block\n",
      "done z-resolving block\n",
      "done resolving block\n",
      "done z-resolving block\n",
      "done scheduling\n",
      "Could not compile [{'name': 'delay', 't': 0.0004, 'qubit': ['Q1']}, {'name': 'rabi', 'qubit': ['Q1'], 'modi': {(0, 'amp'): 0.16666666666666666, (0, 'twidth'): 15}}, {'name': 'barrier', 'qubit': ['Q1']}, {'name': 'read', 'qubit': ['Q1']}]\n",
      "done resolving block\n",
      "done z-resolving block\n",
      "done resolving block\n",
      "done z-resolving block\n",
      "done scheduling\n",
      "Could not compile [{'name': 'delay', 't': 0.0004, 'qubit': ['Q1']}, {'name': 'rabi', 'qubit': ['Q1'], 'modi': {(0, 'amp'): 0.20833333333333331, (0, 'twidth'): 15}}, {'name': 'barrier', 'qubit': ['Q1']}, {'name': 'read', 'qubit': ['Q1']}]\n",
      "done resolving block\n",
      "done z-resolving block\n",
      "done resolving block\n",
      "done z-resolving block\n",
      "done scheduling\n",
      "Could not compile [{'name': 'delay', 't': 0.0004, 'qubit': ['Q1']}, {'name': 'rabi', 'qubit': ['Q1'], 'modi': {(0, 'amp'): 0.25, (0, 'twidth'): 15}}, {'name': 'barrier', 'qubit': ['Q1']}, {'name': 'read', 'qubit': ['Q1']}]\n",
      "done resolving block\n",
      "done z-resolving block\n",
      "done resolving block\n",
      "done z-resolving block\n",
      "done scheduling\n",
      "Could not compile [{'name': 'delay', 't': 0.0004, 'qubit': ['Q1']}, {'name': 'rabi', 'qubit': ['Q1'], 'modi': {(0, 'amp'): 0.29166666666666663, (0, 'twidth'): 15}}, {'name': 'barrier', 'qubit': ['Q1']}, {'name': 'read', 'qubit': ['Q1']}]\n",
      "done resolving block\n",
      "done z-resolving block\n",
      "done resolving block\n",
      "done z-resolving block\n",
      "done scheduling\n",
      "Could not compile [{'name': 'delay', 't': 0.0004, 'qubit': ['Q1']}, {'name': 'rabi', 'qubit': ['Q1'], 'modi': {(0, 'amp'): 0.3333333333333333, (0, 'twidth'): 15}}, {'name': 'barrier', 'qubit': ['Q1']}, {'name': 'read', 'qubit': ['Q1']}]\n",
      "done resolving block\n",
      "done z-resolving block\n",
      "done resolving block\n",
      "done z-resolving block\n",
      "done scheduling\n",
      "Could not compile [{'name': 'delay', 't': 0.0004, 'qubit': ['Q1']}, {'name': 'rabi', 'qubit': ['Q1'], 'modi': {(0, 'amp'): 0.375, (0, 'twidth'): 15}}, {'name': 'barrier', 'qubit': ['Q1']}, {'name': 'read', 'qubit': ['Q1']}]\n",
      "done resolving block\n",
      "done z-resolving block\n",
      "done resolving block\n",
      "done z-resolving block\n",
      "done scheduling\n",
      "Could not compile [{'name': 'delay', 't': 0.0004, 'qubit': ['Q1']}, {'name': 'rabi', 'qubit': ['Q1'], 'modi': {(0, 'amp'): 0.41666666666666663, (0, 'twidth'): 15}}, {'name': 'barrier', 'qubit': ['Q1']}, {'name': 'read', 'qubit': ['Q1']}]\n",
      "done resolving block\n",
      "done z-resolving block\n",
      "done resolving block\n",
      "done z-resolving block\n",
      "done scheduling\n",
      "Could not compile [{'name': 'delay', 't': 0.0004, 'qubit': ['Q1']}, {'name': 'rabi', 'qubit': ['Q1'], 'modi': {(0, 'amp'): 0.4583333333333333, (0, 'twidth'): 15}}, {'name': 'barrier', 'qubit': ['Q1']}, {'name': 'read', 'qubit': ['Q1']}]\n",
      "done resolving block\n",
      "done z-resolving block\n",
      "done resolving block\n",
      "done z-resolving block\n",
      "done scheduling\n",
      "Could not compile [{'name': 'delay', 't': 0.0004, 'qubit': ['Q1']}, {'name': 'rabi', 'qubit': ['Q1'], 'modi': {(0, 'amp'): 0.5, (0, 'twidth'): 15}}, {'name': 'barrier', 'qubit': ['Q1']}, {'name': 'read', 'qubit': ['Q1']}]\n",
      "done resolving block\n",
      "done z-resolving block\n",
      "done resolving block\n",
      "done z-resolving block\n",
      "done scheduling\n",
      "Could not compile [{'name': 'delay', 't': 0.0004, 'qubit': ['Q1']}, {'name': 'rabi', 'qubit': ['Q1'], 'modi': {(0, 'amp'): 0.5416666666666666, (0, 'twidth'): 15}}, {'name': 'barrier', 'qubit': ['Q1']}, {'name': 'read', 'qubit': ['Q1']}]\n",
      "done resolving block\n",
      "done z-resolving block\n",
      "done resolving block\n",
      "done z-resolving block\n",
      "done scheduling\n",
      "Could not compile [{'name': 'delay', 't': 0.0004, 'qubit': ['Q1']}, {'name': 'rabi', 'qubit': ['Q1'], 'modi': {(0, 'amp'): 0.5833333333333333, (0, 'twidth'): 15}}, {'name': 'barrier', 'qubit': ['Q1']}, {'name': 'read', 'qubit': ['Q1']}]\n",
      "done resolving block\n",
      "done z-resolving block\n",
      "done resolving block\n",
      "done z-resolving block\n",
      "done scheduling\n",
      "Could not compile [{'name': 'delay', 't': 0.0004, 'qubit': ['Q1']}, {'name': 'rabi', 'qubit': ['Q1'], 'modi': {(0, 'amp'): 0.625, (0, 'twidth'): 15}}, {'name': 'barrier', 'qubit': ['Q1']}, {'name': 'read', 'qubit': ['Q1']}]\n",
      "done resolving block\n",
      "done z-resolving block\n",
      "done resolving block\n",
      "done z-resolving block\n",
      "done scheduling\n",
      "Could not compile [{'name': 'delay', 't': 0.0004, 'qubit': ['Q1']}, {'name': 'rabi', 'qubit': ['Q1'], 'modi': {(0, 'amp'): 0.6666666666666666, (0, 'twidth'): 15}}, {'name': 'barrier', 'qubit': ['Q1']}, {'name': 'read', 'qubit': ['Q1']}]\n",
      "done resolving block\n",
      "done z-resolving block\n",
      "done resolving block\n",
      "done z-resolving block\n",
      "done scheduling\n",
      "Could not compile [{'name': 'delay', 't': 0.0004, 'qubit': ['Q1']}, {'name': 'rabi', 'qubit': ['Q1'], 'modi': {(0, 'amp'): 0.7083333333333333, (0, 'twidth'): 15}}, {'name': 'barrier', 'qubit': ['Q1']}, {'name': 'read', 'qubit': ['Q1']}]\n",
      "done resolving block\n",
      "done z-resolving block\n",
      "done resolving block\n",
      "done z-resolving block\n",
      "done scheduling\n",
      "Could not compile [{'name': 'delay', 't': 0.0004, 'qubit': ['Q1']}, {'name': 'rabi', 'qubit': ['Q1'], 'modi': {(0, 'amp'): 0.75, (0, 'twidth'): 15}}, {'name': 'barrier', 'qubit': ['Q1']}, {'name': 'read', 'qubit': ['Q1']}]\n",
      "done resolving block\n",
      "done z-resolving block\n",
      "done resolving block\n",
      "done z-resolving block\n",
      "done scheduling\n",
      "Could not compile [{'name': 'delay', 't': 0.0004, 'qubit': ['Q1']}, {'name': 'rabi', 'qubit': ['Q1'], 'modi': {(0, 'amp'): 0.7916666666666666, (0, 'twidth'): 15}}, {'name': 'barrier', 'qubit': ['Q1']}, {'name': 'read', 'qubit': ['Q1']}]\n",
      "done resolving block\n",
      "done z-resolving block\n",
      "done resolving block\n",
      "done z-resolving block\n",
      "done scheduling\n",
      "Could not compile [{'name': 'delay', 't': 0.0004, 'qubit': ['Q1']}, {'name': 'rabi', 'qubit': ['Q1'], 'modi': {(0, 'amp'): 0.8333333333333333, (0, 'twidth'): 15}}, {'name': 'barrier', 'qubit': ['Q1']}, {'name': 'read', 'qubit': ['Q1']}]\n",
      "done resolving block\n",
      "done z-resolving block\n",
      "done resolving block\n",
      "done z-resolving block\n",
      "done scheduling\n",
      "Could not compile [{'name': 'delay', 't': 0.0004, 'qubit': ['Q1']}, {'name': 'rabi', 'qubit': ['Q1'], 'modi': {(0, 'amp'): 0.875, (0, 'twidth'): 15}}, {'name': 'barrier', 'qubit': ['Q1']}, {'name': 'read', 'qubit': ['Q1']}]\n",
      "done resolving block\n",
      "done z-resolving block\n",
      "done resolving block\n",
      "done z-resolving block\n",
      "done scheduling\n",
      "Could not compile [{'name': 'delay', 't': 0.0004, 'qubit': ['Q1']}, {'name': 'rabi', 'qubit': ['Q1'], 'modi': {(0, 'amp'): 0.9166666666666666, (0, 'twidth'): 15}}, {'name': 'barrier', 'qubit': ['Q1']}, {'name': 'read', 'qubit': ['Q1']}]\n",
      "done resolving block\n",
      "done z-resolving block\n",
      "done resolving block\n",
      "done z-resolving block\n",
      "done scheduling\n",
      "Could not compile [{'name': 'delay', 't': 0.0004, 'qubit': ['Q1']}, {'name': 'rabi', 'qubit': ['Q1'], 'modi': {(0, 'amp'): 0.9583333333333333, (0, 'twidth'): 15}}, {'name': 'barrier', 'qubit': ['Q1']}, {'name': 'read', 'qubit': ['Q1']}]\n",
      "done resolving block\n",
      "done z-resolving block\n",
      "done resolving block\n",
      "done z-resolving block\n",
      "done scheduling\n",
      "Could not compile [{'name': 'delay', 't': 0.0004, 'qubit': ['Q1']}, {'name': 'rabi', 'qubit': ['Q1'], 'modi': {(0, 'amp'): 1.0, (0, 'twidth'): 15}}, {'name': 'barrier', 'qubit': ['Q1']}, {'name': 'read', 'qubit': ['Q1']}]\n"
     ]
    }
   ],
   "source": [
    "num_partitions = 25\n",
    "irabi = rabi.RabiAmpSweeper(target_qubit, target_twidth, qchip, fpga_config, channel_config, num_partitions=num_partitions)"
   ]
  },
  {
   "cell_type": "code",
   "execution_count": 10,
   "id": "93363955",
   "metadata": {},
   "outputs": [
    {
     "data": {
      "text/plain": [
       "2.4e-08"
      ]
     },
     "execution_count": 10,
     "metadata": {},
     "output_type": "execute_result"
    }
   ],
   "source": [
    "qchip.gates[f'{target_qubit}X90'].tlength"
   ]
  },
  {
   "cell_type": "code",
   "execution_count": null,
   "id": "e69e7df9",
   "metadata": {},
   "outputs": [],
   "source": [
    "xr = xreps.XGateReps('Q0', )"
   ]
  }
 ],
 "metadata": {
  "kernelspec": {
   "display_name": "Python 3 (ipykernel)",
   "language": "python",
   "name": "python3"
  },
  "language_info": {
   "codemirror_mode": {
    "name": "ipython",
    "version": 3
   },
   "file_extension": ".py",
   "mimetype": "text/x-python",
   "name": "python",
   "nbconvert_exporter": "python",
   "pygments_lexer": "ipython3",
   "version": "3.10.9"
  }
 },
 "nbformat": 4,
 "nbformat_minor": 5
}
