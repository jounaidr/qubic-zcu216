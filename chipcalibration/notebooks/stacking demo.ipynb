{
 "cells": [
  {
   "cell_type": "code",
   "execution_count": 184,
   "id": "d8dcfd6a",
   "metadata": {},
   "outputs": [],
   "source": [
    "import qubic.toolchain as tc\n",
    "import qubic.rpc_client as rc\n",
    "import qubitconfig.qchip as qc\n",
    "from distproc.hwconfig import FPGAConfig, load_channel_configs\n",
    "import numpy as np\n",
    "import matplotlib.pyplot as plt\n",
    "import chipcalibration.ramsey as gordon\n",
    "from importlib import reload\n",
    "import qubic.state_disc as sd\n",
    "import chipcalibration.config as cfg\n",
    "import qubic.job_manager as jm"
   ]
  },
  {
   "cell_type": "code",
   "execution_count": 134,
   "id": "7c62aec2",
   "metadata": {},
   "outputs": [],
   "source": [
    "qchipname = 'X4Y2'\n",
    "fpga_config, qchip, channel_config = cfg.load_configs(qchipname)\n",
    "chanmap = {'Q0':7,'Q2':1,'Q1':4,'Q3':3,'Q4':5,'Q5':6,'Q6':2}"
   ]
  },
  {
   "cell_type": "code",
   "execution_count": 162,
   "id": "df7629c1",
   "metadata": {},
   "outputs": [],
   "source": [
    "runner = rc.CircuitRunnerClient(ip='192.168.1.247')\n",
    "jobman = jm.JobManager(fpga_config, qchip, channel_config, runner)"
   ]
  },
  {
   "cell_type": "code",
   "execution_count": 149,
   "id": "fd2724ab",
   "metadata": {},
   "outputs": [],
   "source": [
    "def stack_circuit(n_x90, qubit, amp=None):\n",
    "    if amp is None:\n",
    "        amp = qchip.gates['{}X90'.format(qubit)].contents[0].amp\n",
    "    circuit = [{'name': 'delay', 't': 400.e-6}]\n",
    "    for i in range(n_x90):\n",
    "        circuit.append({'name': 'X90', 'qubit':[qubit], 'modi': {(0, 'amp'): amp}})\n",
    "    circuit.append({'name': 'read', 'qubit': [qubit]})\n",
    "    return circuit\n",
    "z_circuit = [\n",
    "    {'name': 'delay', 't': 400.e-6},\n",
    "    {'name': 'X90', 'qubit':['Q2']},\n",
    "    {'name': 'Z90', 'qubit':['Q2']},\n",
    "    {'name': 'Z90', 'qubit':['Q2']},\n",
    "    {'name': 'X90', 'qubit':['Q2']},\n",
    "    {'name': 'read', 'qubit': ['Q2']}\n",
    "    \n",
    "]"
   ]
  },
  {
   "cell_type": "code",
   "execution_count": 174,
   "id": "82b5e86a",
   "metadata": {},
   "outputs": [],
   "source": [
    "qubit = 'Q3'\n",
    "#tc.run_assemble_stage(tc.run_compile_stage(stack_circuit(8), fpga_config, qchip), channel_config)\n",
    "shots_out = jobman.build_and_run_circuits([stack_circuit(2, qubit)], 1000, outputs=['shots'], fit_gmm=False)['shots']"
   ]
  },
  {
   "cell_type": "code",
   "execution_count": 175,
   "id": "f5df7026",
   "metadata": {},
   "outputs": [
    {
     "data": {
      "text/plain": [
       "159"
      ]
     },
     "execution_count": 175,
     "metadata": {},
     "output_type": "execute_result"
    }
   ],
   "source": [
    "#np.sum(shots_out['Q3'])\n",
    "#jobman.gmm_manager.set_labels_maxtomin(shots_out, [1, 0])\n"
   ]
  },
  {
   "cell_type": "code",
   "execution_count": 180,
   "id": "2f858969",
   "metadata": {},
   "outputs": [],
   "source": [
    "nones = []\n",
    "amps = np.linspace(0.135, 0.16, 30)\n",
    "for amp in amps:\n",
    "    shots_out = jobman.build_and_run_circuits([stack_circuit(30, qubit, amp)], \n",
    "                                                     1000, outputs=['shots'], fit_gmm=False)['shots']\n",
    "    nones.append(np.sum(shots_out['Q3']))"
   ]
  },
  {
   "cell_type": "code",
   "execution_count": 181,
   "id": "f9d575bd",
   "metadata": {},
   "outputs": [
    {
     "data": {
      "text/plain": [
       "<matplotlib.collections.LineCollection at 0x7f40f9577d50>"
      ]
     },
     "execution_count": 181,
     "metadata": {},
     "output_type": "execute_result"
    },
    {
     "data": {
      "image/png": "[encoded data removed]",
      "text/plain": [
       "<Figure size 640x480 with 1 Axes>"
      ]
     },
     "metadata": {},
     "output_type": "display_data"
    }
   ],
   "source": [
    "plt.plot(amps, nones)\n",
    "plt.vlines(qchip.gates['Q3X90'].contents[0].amp, 0, 1000, colors='r')"
   ]
  },
  {
   "cell_type": "code",
   "execution_count": 182,
   "id": "9a9e67f4",
   "metadata": {},
   "outputs": [
    {
     "data": {
      "text/plain": [
       "0.1496551724137931"
      ]
     },
     "execution_count": 182,
     "metadata": {},
     "output_type": "execute_result"
    }
   ],
   "source": [
    "amps[np.argmin(nones)]"
   ]
  },
  {
   "cell_type": "code",
   "execution_count": 121,
   "id": "b4b7a3a8",
   "metadata": {},
   "outputs": [],
   "source": [
    "shots_out = jobman.build_and_run_circuits([z_circuit], 1000, outputs=['shots'])['shots']"
   ]
  },
  {
   "cell_type": "code",
   "execution_count": 122,
   "id": "15887185",
   "metadata": {},
   "outputs": [
    {
     "data": {
      "text/plain": [
       "103"
      ]
     },
     "execution_count": 122,
     "metadata": {},
     "output_type": "execute_result"
    }
   ],
   "source": [
    "np.sum(shots_out['Q2'])"
   ]
  },
  {
   "cell_type": "code",
   "execution_count": null,
   "id": "93b25265",
   "metadata": {},
   "outputs": [],
   "source": []
  }
 ],
 "metadata": {
  "kernelspec": {
   "display_name": "Python 3 (ipykernel)",
   "language": "python",
   "name": "python3"
  },
  "language_info": {
   "codemirror_mode": {
    "name": "ipython",
    "version": 3
   },
   "file_extension": ".py",
   "mimetype": "text/x-python",
   "name": "python",
   "nbconvert_exporter": "python",
   "pygments_lexer": "ipython3",
   "version": "3.11.2"
  }
 },
 "nbformat": 4,
 "nbformat_minor": 5
}
