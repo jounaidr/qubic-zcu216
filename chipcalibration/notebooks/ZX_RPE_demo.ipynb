{
 "cells": [
  {
   "cell_type": "code",
   "execution_count": 1,
   "metadata": {
    "ExecuteTime": {
     "end_time": "2023-05-11T01:11:16.303219422Z",
     "start_time": "2023-05-11T01:11:15.194954519Z"
    }
   },
   "outputs": [],
   "source": [
    "from pyrpe.src.quapack.pyRPE import RobustPhaseEstimation\n",
    "from pyrpe.src.quapack.pyRPE.quantum import Q\n",
    "import numpy as np\n",
    "import pygsti\n",
    "%matplotlib inline\n",
    "import matplotlib.pyplot as plt\n",
    "import scipy\n",
    "from pygsti.modelpacks import smq2Q_XYZICNOT"
   ]
  },
  {
   "cell_type": "code",
   "execution_count": 10,
   "metadata": {
    "ExecuteTime": {
     "end_time": "2023-05-11T01:11:36.301478742Z",
     "start_time": "2023-05-11T01:11:36.263796598Z"
    }
   },
   "outputs": [],
   "source": [
    "def make_cos_circ(k):\n",
    "    return (pygsti.circuits.Circuit([[('Gxpi2',0)]])*2+\n",
    "            pygsti.circuits.Circuit([[('Gcr',0,1)]])*k+\n",
    "            pygsti.circuits.Circuit([[('Gxpi2',0)]])*2)\n",
    "\n",
    "def make_sin_circ(k):\n",
    "    return (pygsti.circuits.Circuit([[('Gxpi2',0)]])*2+\n",
    "            pygsti.circuits.Circuit([[('Gcr',0,1)]])*k+\n",
    "            pygsti.circuits.Circuit([[('Gxpi2',0)]])*2+\n",
    "            pygsti.circuits.Circuit([[('Gzpi2',1)]])*2+\n",
    "            pygsti.circuits.Circuit([[('Gxpi2',1)]])*3)"
   ]
  },
  {
   "cell_type": "code",
   "execution_count": 11,
   "metadata": {
    "ExecuteTime": {
     "end_time": "2023-05-11T01:11:36.508709189Z",
     "start_time": "2023-05-11T01:11:36.463576393Z"
    }
   },
   "outputs": [],
   "source": [
    "max_depths = [1,2,4,8,16,32]\n",
    "#Can go shallower or deeper; chose 32 somewhat arbitrarily for this demo.  \n",
    "#The deeper we can go, the better (up to depolarization).\n",
    "#The total number of circuits required is 2*len(max_depths)"
   ]
  },
  {
   "cell_type": "code",
   "execution_count": 12,
   "metadata": {
    "ExecuteTime": {
     "end_time": "2023-05-11T01:11:36.772235712Z",
     "start_time": "2023-05-11T01:11:36.747610526Z"
    }
   },
   "outputs": [],
   "source": [
    "sin_dict = {i: make_sin_circ(i) for i in max_depths}\n",
    "cos_dict = {i: make_cos_circ(i) for i in max_depths}\n",
    "\n",
    "circ_dict = {'sin':sin_dict,'cos':cos_dict}\n",
    "\n",
    "all_circs = list(sin_dict.values()) + list(cos_dict.values())"
   ]
  },
  {
   "cell_type": "code",
   "execution_count": 13,
   "metadata": {
    "ExecuteTime": {
     "end_time": "2023-05-11T01:11:36.995954839Z",
     "start_time": "2023-05-11T01:11:36.974200960Z"
    }
   },
   "outputs": [],
   "source": [
    "target_model = smq2Q_XYZICNOT.target_model()"
   ]
  },
  {
   "cell_type": "code",
   "execution_count": 14,
   "metadata": {
    "ExecuteTime": {
     "end_time": "2023-05-11T01:11:37.223092542Z",
     "start_time": "2023-05-11T01:11:37.200453190Z"
    }
   },
   "outputs": [],
   "source": [
    "#Make the unitary cross-resonance gate.  Target angle is pi/2.\n",
    "def ZX(theta):\n",
    "    return scipy.linalg.expm(-1j/2 * theta * pygsti.sigmazx)"
   ]
  },
  {
   "cell_type": "code",
   "execution_count": 15,
   "metadata": {
    "ExecuteTime": {
     "end_time": "2023-05-11T01:11:37.460890881Z",
     "start_time": "2023-05-11T01:11:37.434813334Z"
    }
   },
   "outputs": [],
   "source": [
    "#Make a noisy model\n",
    "noisy_model_0 = target_model.copy()\n",
    "delta = 0.1\n",
    "noisy_model_0['Gcr',0,1] = pygsti.unitary_to_pauligate(ZX(np.pi/2+delta))"
   ]
  },
  {
   "cell_type": "code",
   "execution_count": 16,
   "metadata": {
    "ExecuteTime": {
     "end_time": "2023-05-11T01:11:37.740683931Z",
     "start_time": "2023-05-11T01:11:37.705420053Z"
    }
   },
   "outputs": [
    {
     "name": "stderr",
     "output_type": "stream",
     "text": [
      "/home/jpmarceaux/.local/lib/python3.10/site-packages/pygsti/layouts/evaltree.py:183: UserWarning: Created an evaluation tree that is inefficient: tree-size > 3 * #circuits !\n",
      "This is likely due to the fact that the circuits being simulated do not have a\n",
      "periodic structure. Consider using a different forward simulator (e.g. MapForwardSimulator).\n",
      "  _warnings.warn((\"Created an evaluation tree that is inefficient: tree-size > %d * #circuits !\\n\"\n"
     ]
    }
   ],
   "source": [
    "#Make an RPE dataset with the noisy model\n",
    "dataset_0 = pygsti.data.simulate_data(noisy_model_0,all_circs,100)"
   ]
  },
  {
   "cell_type": "code",
   "execution_count": 17,
   "metadata": {
    "ExecuteTime": {
     "end_time": "2023-05-11T01:11:38.950652809Z",
     "start_time": "2023-05-11T01:11:38.939417383Z"
    }
   },
   "outputs": [],
   "source": [
    "#Post-process the RPE data from the pyGSTi dataset\n",
    "the_experiment = Q()\n",
    "for i in max_depths:\n",
    "    the_experiment.process_sin(i,(int(dataset_0[sin_dict[i]]['00']),int(dataset_0[sin_dict[i]]['01'])))\n",
    "    the_experiment.process_cos(i,(int(dataset_0[cos_dict[i]]['00']),int(dataset_0[cos_dict[i]]['01'])))"
   ]
  },
  {
   "cell_type": "code",
   "execution_count": 18,
   "metadata": {
    "ExecuteTime": {
     "end_time": "2023-05-11T01:11:39.987769207Z",
     "start_time": "2023-05-11T01:11:39.953221210Z"
    }
   },
   "outputs": [],
   "source": [
    "#Run RPE\n",
    "rpe = RobustPhaseEstimation(the_experiment)"
   ]
  },
  {
   "cell_type": "code",
   "execution_count": 19,
   "metadata": {
    "ExecuteTime": {
     "end_time": "2023-05-11T01:11:40.801723488Z",
     "start_time": "2023-05-11T01:11:40.757017242Z"
    }
   },
   "outputs": [
    {
     "data": {
      "text/plain": [
       "array([1.49096634, 1.65012396, 1.68024415, 1.67554398, 1.66647243,\n",
       "       1.67573829])"
      ]
     },
     "execution_count": 19,
     "metadata": {},
     "output_type": "execute_result"
    }
   ],
   "source": [
    "#Look at the successive estimates of the RPE routine\n",
    "rpe.angle_estimates"
   ]
  },
  {
   "cell_type": "code",
   "execution_count": 20,
   "metadata": {
    "ExecuteTime": {
     "end_time": "2023-05-11T01:11:42.165542949Z",
     "start_time": "2023-05-11T01:11:41.503636926Z"
    }
   },
   "outputs": [
    {
     "data": {
      "text/plain": [
       "Text(0, 0.5, 'Angle estimate error')"
      ]
     },
     "execution_count": 20,
     "metadata": {},
     "output_type": "execute_result"
    },
    {
     "data": {
      "image/png": "[encoded data removed]",
      "text/plain": [
       "<Figure size 640x480 with 1 Axes>"
      ]
     },
     "metadata": {},
     "output_type": "display_data"
    }
   ],
   "source": [
    "#Sanity check- does the error in the angle estimate decrease as 1/circuit depth?\n",
    "plt.plot(max_depths,np.abs(rpe.angle_estimates - (np.pi/2 + delta)),'.')\n",
    "plt.plot(max_depths,.1/np.array(max_depths),'--')\n",
    "plt.xscale('log')\n",
    "plt.yscale('log')\n",
    "plt.xlabel('Circuit depth')\n",
    "plt.ylabel('Angle estimate error')"
   ]
  },
  {
   "cell_type": "code",
   "execution_count": 21,
   "metadata": {
    "ExecuteTime": {
     "end_time": "2023-05-11T01:11:44.773084924Z",
     "start_time": "2023-05-11T01:11:44.700555382Z"
    }
   },
   "outputs": [],
   "source": [
    "#Extract the last \"trusted\" RPE angle estimate.  This is the quantity that will get fed to the optimizer.\n",
    "#For the cross-resonance gate, the target is pi/2.\n",
    "last_good_estimate_generation = rpe.check_unif_local(historical=True)\n",
    "angle_estimate = rpe.angle_estimates[last_good_estimate_generation]"
   ]
  },
  {
   "cell_type": "code",
   "execution_count": 22,
   "metadata": {
    "ExecuteTime": {
     "end_time": "2023-05-11T01:11:47.513096080Z",
     "start_time": "2023-05-11T01:11:47.490109097Z"
    }
   },
   "outputs": [
    {
     "name": "stdout",
     "output_type": "stream",
     "text": [
      "Angle estimate is 1.6757382942500805 radians\n",
      "Error in angle estimate is 0.004941967455183827 radians\n"
     ]
    }
   ],
   "source": [
    "print('Angle estimate is', angle_estimate, 'radians')\n",
    "print('Error in angle estimate is', abs(angle_estimate - (np.pi/2 + delta)),'radians')"
   ]
  }
 ],
 "metadata": {
  "kernelspec": {
   "display_name": "Python 3 (ipykernel)",
   "language": "python",
   "name": "python3"
  },
  "language_info": {
   "codemirror_mode": {
    "name": "ipython",
    "version": 3
   },
   "file_extension": ".py",
   "mimetype": "text/x-python",
   "name": "python",
   "nbconvert_exporter": "python",
   "pygments_lexer": "ipython3",
   "version": "3.10.9"
  }
 },
 "nbformat": 4,
 "nbformat_minor": 4
}
