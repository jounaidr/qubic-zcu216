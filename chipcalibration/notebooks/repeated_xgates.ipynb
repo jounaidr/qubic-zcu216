{
 "cells": [
  {
   "cell_type": "code",
   "execution_count": 5,
   "metadata": {
    "ExecuteTime": {
     "end_time": "2023-05-06T00:18:44.630381437Z",
     "start_time": "2023-05-06T00:18:44.589975827Z"
    }
   },
   "outputs": [],
   "source": [
    "from importlib import reload\n",
    "import pygsti\n",
    "import qubic.job_manager_jpm as _jm\n",
    "from pygsti.models import modelconstruction as _mc\n",
    "from matplotlib import pyplot as plt\n",
    "from qubic.state_disc import GMMManager\n",
    "import chipcalibration.rabi_amp_sweep as _rabi\n",
    "from distproc.hwconfig import FPGAConfig, load_channel_configs\n",
    "import chipcalibration.config as cfg\n",
    "import qubic.rpc_client as rc\n",
    "import chipcalibration.repeated_xgates as _xgate"
   ]
  },
  {
   "cell_type": "code",
   "execution_count": 6,
   "metadata": {},
   "outputs": [],
   "source": [
    "fpga_config = FPGAConfig(**{'fpga_clk_period': 2.e-9, 'alu_instr_clks': 5, 'jump_cond_clks': 5, 'jump_fproc_clks': 5, 'pulse_regwrite_clks': 3})\n",
    "\n",
    "qchipname = 'X4Y2'\n",
    "fpga_config, qchip, channel_config = cfg.load_configs(qchipname)"
   ]
  },
  {
   "cell_type": "code",
   "execution_count": 7,
   "metadata": {
    "ExecuteTime": {
     "end_time": "2023-05-06T00:18:44.787664147Z",
     "start_time": "2023-05-06T00:18:44.776796275Z"
    }
   },
   "outputs": [
    {
     "data": {
      "text/plain": [
       "<module 'chipcalibration.rabi_amp_sweep' from '/home/jpmarceaux/chipcalibration/chipcalibration/rabi_amp_sweep.py'>"
      ]
     },
     "execution_count": 7,
     "metadata": {},
     "output_type": "execute_result"
    }
   ],
   "source": [
    "reload(_jm)\n",
    "reload(_xgate)\n",
    "reload(_rabi)"
   ]
  },
  {
   "cell_type": "code",
   "execution_count": 8,
   "metadata": {},
   "outputs": [],
   "source": [
    "runner = rc.CircuitRunnerClient(ip='192.168.1.247')\n",
    "jm = _jm.JobManager(fpga_config, channel_config, runner)"
   ]
  },
  {
   "cell_type": "markdown",
   "metadata": {},
   "source": [
    "### first, run rabi and get the gmm"
   ]
  },
  {
   "cell_type": "code",
   "execution_count": 9,
   "metadata": {},
   "outputs": [],
   "source": [
    "target_qubits = ['Q1']\n",
    "#target_qubits = ['Q3']\n",
    "target_twidth = 24e-9"
   ]
  },
  {
   "cell_type": "code",
   "execution_count": 10,
   "metadata": {},
   "outputs": [],
   "source": [
    "num_partitions = 25\n",
    "irabi = _rabi.RabiAmpSweeper(target_qubits, target_twidth, qchip, fpga_config, channel_config, num_partitions=num_partitions)"
   ]
  },
  {
   "cell_type": "code",
   "execution_count": 11,
   "metadata": {},
   "outputs": [
    {
     "data": {
      "text/plain": [
       "[{'fcarrier': 'Q1.freq',\n",
       "  'pcarrier': 0.0,\n",
       "  'dest': 'Q1.qdrv',\n",
       "  'twidth': 2.4e-08,\n",
       "  't0': 0.0,\n",
       "  'amp': 0.4745242933257867,\n",
       "  'env': [{'env_func': 'cos_edge_square',\n",
       "    'paradict': {'ramp_fraction': 0.25}}]}]"
      ]
     },
     "execution_count": 11,
     "metadata": {},
     "output_type": "execute_result"
    }
   ],
   "source": [
    "qchip.gates['Q1X90'].cfg_dict"
   ]
  },
  {
   "cell_type": "code",
   "execution_count": 12,
   "metadata": {},
   "outputs": [],
   "source": [
    "# fit is A*sin(2*pi*x/drive_period + phi) + B, params are [A, B, drive_period, phi]\n",
    "prior_fit_params = {\n",
    "    'Q0' : [-0.5, 0.5, 0.5, 0], \n",
    "    'Q1' : [-0.5, 0.5, 0.8, 0], \n",
    "    'Q2' : [-0.5, 0.5, 0.8, 0], \n",
    "    'Q3' : [-0.5, 0.5, 0.8, 0], \n",
    "    'Q4' : [-0.5, 0.5, 0.8, 0], \n",
    "    'Q5' : [-0.5, 0.5, 0.8, 0], \n",
    "}"
   ]
  },
  {
   "cell_type": "code",
   "execution_count": 13,
   "metadata": {},
   "outputs": [],
   "source": [
    "circs = irabi.circuits"
   ]
  },
  {
   "cell_type": "code",
   "execution_count": 14,
   "metadata": {},
   "outputs": [
    {
     "name": "stdout",
     "output_type": "stream",
     "text": [
      "Taking data for qubit Q1 in batch 1 of 1\n",
      "done resolving block\n",
      "done z-resolving block\n",
      "done resolving block\n",
      "done z-resolving block\n",
      "done scheduling\n",
      "done resolving block\n",
      "done z-resolving block\n",
      "done resolving block\n",
      "done z-resolving block\n",
      "done scheduling\n",
      "done resolving block\n",
      "done z-resolving block\n",
      "done resolving block\n",
      "done z-resolving block\n",
      "done scheduling\n",
      "done resolving block\n",
      "done z-resolving block\n",
      "done resolving block\n",
      "done z-resolving block\n",
      "done scheduling\n",
      "done resolving block\n",
      "done z-resolving block\n",
      "done resolving block\n",
      "done z-resolving block\n",
      "done scheduling\n",
      "done resolving block\n",
      "done z-resolving block\n",
      "done resolving block\n",
      "done z-resolving block\n",
      "done scheduling\n",
      "done resolving block\n",
      "done z-resolving block\n",
      "done resolving block\n",
      "done z-resolving block\n",
      "done scheduling\n",
      "done resolving block\n",
      "done z-resolving block\n",
      "done resolving block\n",
      "done z-resolving block\n",
      "done scheduling\n",
      "done resolving block\n",
      "done z-resolving block\n",
      "done resolving block\n",
      "done z-resolving block\n",
      "done scheduling\n",
      "done resolving block\n",
      "done z-resolving block\n",
      "done resolving block\n",
      "done z-resolving block\n",
      "done scheduling\n",
      "done resolving block\n",
      "done z-resolving block\n",
      "done resolving block\n",
      "done z-resolving block\n",
      "done scheduling\n",
      "done resolving block\n",
      "done z-resolving block\n",
      "done resolving block\n",
      "done z-resolving block\n",
      "done scheduling\n",
      "done resolving block\n",
      "done z-resolving block\n",
      "done resolving block\n",
      "done z-resolving block\n",
      "done scheduling\n",
      "done resolving block\n",
      "done z-resolving block\n",
      "done resolving block\n",
      "done z-resolving block\n",
      "done scheduling\n",
      "done resolving block\n",
      "done z-resolving block\n",
      "done resolving block\n",
      "done z-resolving block\n",
      "done scheduling\n",
      "done resolving block\n",
      "done z-resolving block\n",
      "done resolving block\n",
      "done z-resolving block\n",
      "done scheduling\n",
      "done resolving block\n",
      "done z-resolving block\n",
      "done resolving block\n",
      "done z-resolving block\n",
      "done scheduling\n",
      "done resolving block\n",
      "done z-resolving block\n",
      "done resolving block\n",
      "done z-resolving block\n",
      "done scheduling\n",
      "done resolving block\n",
      "done z-resolving block\n",
      "done resolving block\n",
      "done z-resolving block\n",
      "done scheduling\n",
      "done resolving block\n",
      "done z-resolving block\n",
      "done resolving block\n",
      "done z-resolving block\n",
      "done scheduling\n",
      "done resolving block\n",
      "done z-resolving block\n",
      "done resolving block\n",
      "done z-resolving block\n",
      "done scheduling\n",
      "done resolving block\n",
      "done z-resolving block\n",
      "done resolving block\n",
      "done z-resolving block\n",
      "done scheduling\n",
      "done resolving block\n",
      "done z-resolving block\n",
      "done resolving block\n",
      "done z-resolving block\n",
      "done scheduling\n",
      "done resolving block\n",
      "done z-resolving block\n",
      "done resolving block\n",
      "done z-resolving block\n",
      "done scheduling\n",
      "done resolving block\n",
      "done z-resolving block\n",
      "done resolving block\n",
      "done z-resolving block\n",
      "done scheduling\n"
     ]
    }
   ],
   "source": [
    "irabi.run_and_fit(jm, 1000, prior_fit_params)"
   ]
  },
  {
   "cell_type": "code",
   "execution_count": 15,
   "metadata": {},
   "outputs": [
    {
     "data": {
      "image/png": "[encoded data removed]",
      "text/plain": [
       "<Figure size 640x480 with 1 Axes>"
      ]
     },
     "metadata": {},
     "output_type": "display_data"
    }
   ],
   "source": [
    "irabi.show_count_oscillations('Q1')"
   ]
  },
  {
   "cell_type": "code",
   "execution_count": 16,
   "metadata": {},
   "outputs": [],
   "source": [
    "gmm = irabi.gmm_manager"
   ]
  },
  {
   "cell_type": "code",
   "execution_count": 17,
   "metadata": {},
   "outputs": [],
   "source": [
    "jm = jm = _jm.JobManager(fpga_config, channel_config, runner, gmm)"
   ]
  },
  {
   "cell_type": "markdown",
   "metadata": {},
   "source": [
    "## now run repeated X gate calibration"
   ]
  },
  {
   "cell_type": "code",
   "execution_count": 28,
   "metadata": {},
   "outputs": [],
   "source": [
    "register = ['Q1']  # these correspond to the actual qubit id's on the qubic device\n",
    "center_amp = qchip.gates['Q1X90'].cfg_dict[0]['amp']"
   ]
  },
  {
   "cell_type": "code",
   "execution_count": 29,
   "metadata": {
    "ExecuteTime": {
     "end_time": "2023-05-06T00:18:45.247268419Z",
     "start_time": "2023-05-06T00:18:45.157899479Z"
    }
   },
   "outputs": [],
   "source": [
    "xreps = _xgate.XGateRepetition(register, ['Q1'], center_amp, 0.1, 5, 5)"
   ]
  },
  {
   "cell_type": "code",
   "execution_count": 30,
   "metadata": {
    "ExecuteTime": {
     "end_time": "2023-05-06T00:18:46.271217286Z",
     "start_time": "2023-05-06T00:18:45.490018532Z"
    }
   },
   "outputs": [
    {
     "name": "stdout",
     "output_type": "stream",
     "text": [
      "done resolving block\n",
      "done z-resolving block\n",
      "done resolving block\n",
      "done z-resolving block\n",
      "done scheduling\n",
      "done resolving block\n",
      "done z-resolving block\n",
      "done resolving block\n",
      "done z-resolving block\n",
      "done scheduling\n",
      "done resolving block\n",
      "done z-resolving block\n",
      "done resolving block\n",
      "done z-resolving block\n",
      "done scheduling\n",
      "done resolving block\n",
      "done z-resolving block\n",
      "done resolving block\n",
      "done z-resolving block\n",
      "done scheduling\n",
      "done resolving block\n",
      "done z-resolving block\n",
      "done resolving block\n",
      "done z-resolving block\n",
      "done scheduling\n",
      "done resolving block\n",
      "done z-resolving block\n",
      "done resolving block\n",
      "done z-resolving block\n",
      "done scheduling\n",
      "done resolving block\n",
      "done z-resolving block\n",
      "done resolving block\n",
      "done z-resolving block\n",
      "done scheduling\n",
      "done resolving block\n",
      "done z-resolving block\n",
      "done resolving block\n",
      "done z-resolving block\n",
      "done scheduling\n",
      "done resolving block\n",
      "done z-resolving block\n",
      "done resolving block\n",
      "done z-resolving block\n",
      "done scheduling\n",
      "done resolving block\n",
      "done z-resolving block\n",
      "done resolving block\n",
      "done z-resolving block\n",
      "done scheduling\n",
      "done resolving block\n",
      "done z-resolving block\n",
      "done resolving block\n",
      "done z-resolving block\n",
      "done scheduling\n",
      "done resolving block\n",
      "done z-resolving block\n",
      "done resolving block\n",
      "done z-resolving block\n",
      "done scheduling\n",
      "done resolving block\n",
      "done z-resolving block\n",
      "done resolving block\n",
      "done z-resolving block\n",
      "done scheduling\n",
      "done resolving block\n",
      "done z-resolving block\n",
      "done resolving block\n",
      "done z-resolving block\n",
      "done scheduling\n",
      "done resolving block\n",
      "done z-resolving block\n",
      "done resolving block\n",
      "done z-resolving block\n",
      "done scheduling\n",
      "done resolving block\n",
      "done z-resolving block\n",
      "done resolving block\n",
      "done z-resolving block\n",
      "done scheduling\n",
      "done resolving block\n",
      "done z-resolving block\n",
      "done resolving block\n",
      "done z-resolving block\n",
      "done scheduling\n",
      "done resolving block\n",
      "done z-resolving block\n",
      "done resolving block\n",
      "done z-resolving block\n",
      "done scheduling\n",
      "done resolving block\n",
      "done z-resolving block\n",
      "done resolving block\n",
      "done z-resolving block\n",
      "done scheduling\n",
      "done resolving block\n",
      "done z-resolving block\n",
      "done resolving block\n",
      "done z-resolving block\n",
      "done scheduling\n",
      "done resolving block\n",
      "done z-resolving block\n",
      "done resolving block\n",
      "done z-resolving block\n",
      "done scheduling\n",
      "done resolving block\n",
      "done z-resolving block\n",
      "done resolving block\n",
      "done z-resolving block\n",
      "done scheduling\n",
      "done resolving block\n",
      "done z-resolving block\n",
      "done resolving block\n",
      "done z-resolving block\n",
      "done scheduling\n",
      "done resolving block\n",
      "done z-resolving block\n",
      "done resolving block\n",
      "done z-resolving block\n",
      "done scheduling\n",
      "done resolving block\n",
      "done z-resolving block\n",
      "done resolving block\n",
      "done z-resolving block\n",
      "done scheduling\n"
     ]
    },
    {
     "name": "stderr",
     "output_type": "stream",
     "text": [
      "/home/jpmarceaux/chipcalibration/chipcalibration/repeated_xgates.py:142: UserWarning: Matplotlib is currently using module://matplotlib_inline.backend_inline, which is a non-GUI backend, so cannot show the figure.\n",
      "  fig.show()\n"
     ]
    },
    {
     "data": {
      "text/plain": [
       "1"
      ]
     },
     "execution_count": 30,
     "metadata": {},
     "output_type": "execute_result"
    },
    {
     "data": {
      "image/png": "[encoded data removed]",
      "text/plain": [
       "<Figure size 640x480 with 1 Axes>"
      ]
     },
     "metadata": {},
     "output_type": "display_data"
    }
   ],
   "source": [
    "xreps.run_and_report(jm, 1000, qchip)"
   ]
  },
  {
   "cell_type": "code",
   "execution_count": null,
   "metadata": {},
   "outputs": [],
   "source": []
  }
 ],
 "metadata": {
  "kernelspec": {
   "display_name": "Python 3 (ipykernel)",
   "language": "python",
   "name": "python3"
  },
  "language_info": {
   "codemirror_mode": {
    "name": "ipython",
    "version": 3
   },
   "file_extension": ".py",
   "mimetype": "text/x-python",
   "name": "python",
   "nbconvert_exporter": "python",
   "pygments_lexer": "ipython3",
   "version": "3.10.9"
  }
 },
 "nbformat": 4,
 "nbformat_minor": 1
}
