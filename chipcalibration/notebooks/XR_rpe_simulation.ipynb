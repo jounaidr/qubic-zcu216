{
 "cells": [
  {
   "cell_type": "code",
   "execution_count": 1,
   "metadata": {
    "ExecuteTime": {
     "end_time": "2023-05-11T02:31:59.077791148Z",
     "start_time": "2023-05-11T02:31:59.064394482Z"
    }
   },
   "outputs": [],
   "source": [
    "import qubic.toolchain as _tc\n",
    "import qubic.rpc_client as _rc\n",
    "import qubitconfig.qchip as _qc\n",
    "from distproc.hwconfig import FPGAConfig, load_channel_configs\n",
    "from pygsti.models import modelconstruction as _mc\n",
    "import numpy as np\n",
    "import matplotlib.pyplot as plt\n",
    "import chipcalibration.xr_rpe as _xrpe\n",
    "from importlib import reload\n",
    "import qubic.state_disc as _sd\n",
    "import chipcalibration.config as _cfg\n",
    "import qubic.job_manager_jpm as _jm\n",
    "import chipcalibration.rabi_experiments as _rabi\n",
    "import logging\n",
    "import pygsti\n",
    "import scipy\n",
    "logging.basicConfig(level=0)"
   ]
  },
  {
   "cell_type": "code",
   "execution_count": 2,
   "metadata": {
    "ExecuteTime": {
     "end_time": "2023-05-11T02:31:59.304560678Z",
     "start_time": "2023-05-11T02:31:59.268744987Z"
    }
   },
   "outputs": [
    {
     "data": {
      "text/plain": [
       "<module 'qubic.job_manager_jpm' from '/home/jpmarceaux/software/qubic/job_manager_jpm.py'>"
      ]
     },
     "execution_count": 2,
     "metadata": {},
     "output_type": "execute_result"
    }
   ],
   "source": [
    "reload(_xrpe)\n",
    "reload(_rabi)\n",
    "reload(_jm)"
   ]
  },
  {
   "cell_type": "code",
   "execution_count": 3,
   "metadata": {
    "ExecuteTime": {
     "end_time": "2023-05-11T02:31:59.504364467Z",
     "start_time": "2023-05-11T02:31:59.461119348Z"
    }
   },
   "outputs": [],
   "source": [
    "target_qid = 'Q2'\n",
    "control_qid = 'Q3'"
   ]
  },
  {
   "cell_type": "code",
   "execution_count": 4,
   "metadata": {
    "ExecuteTime": {
     "end_time": "2023-05-11T02:31:59.684076528Z",
     "start_time": "2023-05-11T02:31:59.666812226Z"
    }
   },
   "outputs": [],
   "source": [
    "qchipname = 'X4Y2'\n",
    "fpga_config, qchip, channel_config = _cfg.load_configs(qchipname)\n",
    "chanmap = {'Q0':7,'Q2':1,'Q1':4,'Q3':3,'Q4':5,'Q5':6,'Q6':2}"
   ]
  },
  {
   "cell_type": "code",
   "execution_count": 5,
   "metadata": {
    "ExecuteTime": {
     "end_time": "2023-05-11T02:31:59.885020465Z",
     "start_time": "2023-05-11T02:31:59.852903518Z"
    }
   },
   "outputs": [],
   "source": [
    "runner = _rc.CircuitRunnerClient(ip='192.168.1.247')\n",
    "jobman = _jm.JobManager(fpga_config, channel_config, runner, qchip)"
   ]
  },
  {
   "cell_type": "code",
   "execution_count": 6,
   "metadata": {
    "ExecuteTime": {
     "end_time": "2023-05-11T02:32:00.068370453Z",
     "start_time": "2023-05-11T02:32:00.030773756Z"
    }
   },
   "outputs": [],
   "source": [
    "def ZX(theta):\n",
    "    return scipy.linalg.expm(-1j/2 * theta * pygsti.sigmazx)"
   ]
  },
  {
   "cell_type": "code",
   "execution_count": 7,
   "metadata": {
    "ExecuteTime": {
     "end_time": "2023-05-11T02:32:00.257319280Z",
     "start_time": "2023-05-11T02:32:00.217211035Z"
    }
   },
   "outputs": [],
   "source": [
    "# make the processor spec\n",
    "register = [control_qid, target_qid] # these correspond to the actual qubit id's on the qubic device\n",
    "gate_names = ['Gxpi2', 'Gzpi2', 'Gcr']\n",
    "\n",
    "availability = {\n",
    "    'Gxpi2': [(qid, ) for qid in register],\n",
    "    'Gzpi2': [(qid, ) for qid in register],\n",
    "    'Gcr': [(control_qid, target_qid)],\n",
    "}\n",
    "\n",
    "pspec = pygsti.processors.QubitProcessorSpec(num_qubits=len(register), gate_names=gate_names,\n",
    "                                 availability=availability, qubit_labels=register,\n",
    "                                 nonstd_gate_unitaries={'Gcr' : ZX(np.pi/2)})\n",
    "target_model = model = _mc.create_explicit_model(pspec)"
   ]
  },
  {
   "cell_type": "code",
   "execution_count": 8,
   "metadata": {
    "ExecuteTime": {
     "end_time": "2023-05-11T02:32:00.480579074Z",
     "start_time": "2023-05-11T02:32:00.413834326Z"
    }
   },
   "outputs": [],
   "source": [
    "#Make a noisy model for simulation\n",
    "noisy_model_0 = target_model.copy()\n",
    "noisy_model_0.set_all_parameterizations('full')\n",
    "delta = 0.1\n",
    "noisy_model_0['Gcr',register[0],register[1]] = pygsti.unitary_to_pauligate(ZX(np.pi/2+delta))\n",
    "noisy_model_0 = noisy_model_0.depolarize(0.1)"
   ]
  },
  {
   "cell_type": "code",
   "execution_count": 9,
   "metadata": {
    "ExecuteTime": {
     "end_time": "2023-05-11T02:32:00.668995919Z",
     "start_time": "2023-05-11T02:32:00.620404793Z"
    }
   },
   "outputs": [],
   "source": [
    "# make a pygsti simulation manager\n",
    "sim_manager = _jm.SimulationManager(noisy_model_0)"
   ]
  },
  {
   "cell_type": "code",
   "execution_count": 10,
   "metadata": {
    "ExecuteTime": {
     "end_time": "2023-05-11T02:32:00.874356135Z",
     "start_time": "2023-05-11T02:32:00.846790072Z"
    }
   },
   "outputs": [],
   "source": [
    "xr_rpe = _xrpe.RPE_XR_Experiment(noisy_model_0, control_qid, target_qid, max_max_depth=9)"
   ]
  },
  {
   "cell_type": "code",
   "execution_count": 11,
   "metadata": {
    "ExecuteTime": {
     "end_time": "2023-05-11T02:32:01.225447178Z",
     "start_time": "2023-05-11T02:32:01.088694754Z"
    }
   },
   "outputs": [
    {
     "name": "stdout",
     "output_type": "stream",
     "text": [
      "Last good generation: 5\n",
      "Estimated phase: 1.7151085243816697\n"
     ]
    },
    {
     "name": "stderr",
     "output_type": "stream",
     "text": [
      "/home/jpmarceaux/pyGSTi/pygsti/layouts/evaltree.py:183: UserWarning: Created an evaluation tree that is inefficient: tree-size > 10 * #circuits !\n",
      "This is likely due to the fact that the circuits being simulated do not have a\n",
      "periodic structure. Consider using a different forward simulator (e.g. MapForwardSimulator).\n",
      "  _warnings.warn((\"Created an evaluation tree that is inefficient: tree-size > %d * #circuits !\\n\"\n"
     ]
    },
    {
     "data": {
      "text/plain": [
       "<pyrpe.src.quapack.pyRPE.classical.RobustPhaseEstimation at 0x7fa590f456f0>"
      ]
     },
     "execution_count": 11,
     "metadata": {},
     "output_type": "execute_result"
    }
   ],
   "source": [
    "xr_rpe.run_and_report(sim_manager, 1000, qchip)"
   ]
  },
  {
   "cell_type": "code",
   "execution_count": 12,
   "metadata": {
    "ExecuteTime": {
     "end_time": "2023-05-11T02:32:03.002713591Z",
     "start_time": "2023-05-11T02:32:02.950224392Z"
    }
   },
   "outputs": [
    {
     "data": {
      "text/plain": [
       "1.5707963267948966"
      ]
     },
     "execution_count": 12,
     "metadata": {},
     "output_type": "execute_result"
    }
   ],
   "source": [
    "np.pi/2"
   ]
  },
  {
   "cell_type": "code",
   "execution_count": null,
   "metadata": {},
   "outputs": [],
   "source": []
  },
  {
   "cell_type": "code",
   "execution_count": null,
   "metadata": {},
   "outputs": [],
   "source": []
  }
 ],
 "metadata": {
  "kernelspec": {
   "display_name": "Python 3 (ipykernel)",
   "language": "python",
   "name": "python3"
  },
  "language_info": {
   "codemirror_mode": {
    "name": "ipython",
    "version": 3
   },
   "file_extension": ".py",
   "mimetype": "text/x-python",
   "name": "python",
   "nbconvert_exporter": "python",
   "pygments_lexer": "ipython3",
   "version": "3.10.9"
  }
 },
 "nbformat": 4,
 "nbformat_minor": 1
}
