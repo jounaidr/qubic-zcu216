{
 "cells": [
  {
   "cell_type": "code",
   "execution_count": 97,
   "outputs": [],
   "source": [
    "import qubic.pygsti.qupig as qupig\n",
    "import qubic.pygsti.pygsti_gst as pygsti_gst\n",
    "from importlib import reload\n",
    "import pygsti\n",
    "import qubic.job_manager_jpm as job_manager\n",
    "from pygsti.models import modelconstruction as _mc"
   ],
   "metadata": {
    "collapsed": false,
    "ExecuteTime": {
     "end_time": "2023-05-03T17:40:12.070958497Z",
     "start_time": "2023-05-03T17:40:12.024955970Z"
    }
   }
  },
  {
   "cell_type": "code",
   "execution_count": 98,
   "outputs": [
    {
     "data": {
      "text/plain": "<module 'qubic.job_manager_jpm' from '/home/jpmarceaux/PycharmProjects/software/qubic/job_manager_jpm.py'>"
     },
     "execution_count": 98,
     "metadata": {},
     "output_type": "execute_result"
    }
   ],
   "source": [
    "reload(pygsti_gst)\n",
    "reload(qupig)\n",
    "reload(job_manager)"
   ],
   "metadata": {
    "collapsed": false,
    "ExecuteTime": {
     "end_time": "2023-05-03T17:40:12.403933957Z",
     "start_time": "2023-05-03T17:40:12.373965319Z"
    }
   }
  },
  {
   "cell_type": "code",
   "execution_count": 99,
   "outputs": [],
   "source": [
    "# make the processor spec\n",
    "register = ['Q1'] # these correspond to the actual qubit id's on the qubic device\n",
    "gate_names = ['Gxpi2', 'Gzpi2']\n",
    "\n",
    "availability = {\n",
    "    'Gxpi2': [(qid, ) for qid in register],\n",
    "    'Gzpi2': [(qid, ) for qid in register],\n",
    "}\n",
    "\n",
    "pspec = pygsti.processors.QubitProcessorSpec(num_qubits=len(register), gate_names=gate_names, availability=availability, qubit_labels=register)"
   ],
   "metadata": {
    "collapsed": false,
    "ExecuteTime": {
     "end_time": "2023-05-03T17:40:12.849408359Z",
     "start_time": "2023-05-03T17:40:12.843675572Z"
    }
   }
  },
  {
   "cell_type": "code",
   "execution_count": 100,
   "outputs": [],
   "source": [
    "# make a pygsti simulation manager\n",
    "model = _mc.create_explicit_model(pspec)\n",
    "model.set_all_parameterizations('TP')\n",
    "model = model.depolarize(0.01)\n",
    "sim_manager = job_manager.SimulationManager(model)"
   ],
   "metadata": {
    "collapsed": false,
    "ExecuteTime": {
     "end_time": "2023-05-03T17:40:13.383021703Z",
     "start_time": "2023-05-03T17:40:13.296144205Z"
    }
   }
  },
  {
   "cell_type": "code",
   "execution_count": 101,
   "outputs": [],
   "source": [
    "gst = pygsti_gst.GST_XZ(pspec)"
   ],
   "metadata": {
    "collapsed": false,
    "ExecuteTime": {
     "end_time": "2023-05-03T17:40:14.629302908Z",
     "start_time": "2023-05-03T17:40:14.201051145Z"
    }
   }
  },
  {
   "cell_type": "code",
   "execution_count": 102,
   "outputs": [],
   "source": [
    "gst.collect_dataset(sim_manager, 100)"
   ],
   "metadata": {
    "collapsed": false,
    "ExecuteTime": {
     "end_time": "2023-05-03T17:40:14.839776619Z",
     "start_time": "2023-05-03T17:40:14.660599800Z"
    }
   }
  },
  {
   "cell_type": "code",
   "execution_count": 103,
   "outputs": [
    {
     "name": "stdout",
     "output_type": "stream",
     "text": [
      "--- Circuit Creation ---\n",
      "   679 circuits created\n",
      "   Dataset has 679 entries: 679 utilized, 0 requested circuits were missing\n",
      "--- Iterative GST: Iter 1 of 7  52 circuits ---: \n",
      "  MatrixLayout: 1 processors divided into 1 x 1 (= 1) grid along circuit and parameter directions.\n",
      "     1 atoms, parameter block size limits (None,)\n",
      "  *** Distributing 1 atoms to 1 atom-processing groups (1 cores) ***\n",
      "      More atom-processors than hosts: each host gets ~1 atom-processors\n",
      "      Atom-processors already occupy a single node, dividing atom-processor into 1 param-processors.\n",
      "  *** Divided 1-host atom-processor (~1 procs) into 1 param-processing groups ***\n",
      "  --- chi2 GST ---\n",
      "  Sum of Chi^2 = 29.8219 (52 data params - 48 (approx) model params = expected mean of 4; p-value = 5.32057e-06)\n",
      "  Completed in 3.1s\n",
      "  Iteration 1 took 3.2s\n",
      "  \n",
      "--- Iterative GST: Iter 2 of 7  96 circuits ---: \n",
      "  MatrixLayout: 1 processors divided into 1 x 1 (= 1) grid along circuit and parameter directions.\n",
      "     1 atoms, parameter block size limits (None,)\n",
      "  *** Distributing 1 atoms to 1 atom-processing groups (1 cores) ***\n",
      "      More atom-processors than hosts: each host gets ~1 atom-processors\n",
      "      Atom-processors already occupy a single node, dividing atom-processor into 1 param-processors.\n",
      "  *** Divided 1-host atom-processor (~1 procs) into 1 param-processing groups ***\n",
      "  --- chi2 GST ---\n",
      "  Sum of Chi^2 = 70.1591 (96 data params - 48 (approx) model params = expected mean of 48; p-value = 0.0201454)\n",
      "  Completed in 2.9s\n",
      "  Iteration 2 took 2.9s\n",
      "  \n",
      "--- Iterative GST: Iter 3 of 7  177 circuits ---: \n",
      "  MatrixLayout: 1 processors divided into 1 x 1 (= 1) grid along circuit and parameter directions.\n",
      "     1 atoms, parameter block size limits (None,)\n",
      "  *** Distributing 1 atoms to 1 atom-processing groups (1 cores) ***\n",
      "      More atom-processors than hosts: each host gets ~1 atom-processors\n",
      "      Atom-processors already occupy a single node, dividing atom-processor into 1 param-processors.\n",
      "  *** Divided 1-host atom-processor (~1 procs) into 1 param-processing groups ***\n",
      "  --- chi2 GST ---\n",
      "  Sum of Chi^2 = 147.22 (177 data params - 48 (approx) model params = expected mean of 129; p-value = 0.130086)\n",
      "  Completed in 1.5s\n",
      "  Iteration 3 took 1.5s\n",
      "  \n",
      "--- Iterative GST: Iter 4 of 7  292 circuits ---: \n",
      "  MatrixLayout: 1 processors divided into 1 x 1 (= 1) grid along circuit and parameter directions.\n",
      "     1 atoms, parameter block size limits (None,)\n",
      "  *** Distributing 1 atoms to 1 atom-processing groups (1 cores) ***\n",
      "      More atom-processors than hosts: each host gets ~1 atom-processors\n",
      "      Atom-processors already occupy a single node, dividing atom-processor into 1 param-processors.\n",
      "  *** Divided 1-host atom-processor (~1 procs) into 1 param-processing groups ***\n",
      "  --- chi2 GST ---\n",
      "  Sum of Chi^2 = 281.224 (292 data params - 48 (approx) model params = expected mean of 244; p-value = 0.0509135)\n",
      "  Completed in 1.5s\n",
      "  Iteration 4 took 1.6s\n",
      "  \n",
      "--- Iterative GST: Iter 5 of 7  421 circuits ---: \n",
      "  MatrixLayout: 1 processors divided into 1 x 1 (= 1) grid along circuit and parameter directions.\n",
      "     1 atoms, parameter block size limits (None,)\n",
      "  *** Distributing 1 atoms to 1 atom-processing groups (1 cores) ***\n",
      "      More atom-processors than hosts: each host gets ~1 atom-processors\n",
      "      Atom-processors already occupy a single node, dividing atom-processor into 1 param-processors.\n",
      "  *** Divided 1-host atom-processor (~1 procs) into 1 param-processing groups ***\n",
      "  --- chi2 GST ---\n",
      "  Sum of Chi^2 = 389.722 (421 data params - 48 (approx) model params = expected mean of 373; p-value = 0.265124)\n",
      "  Completed in 3.3s\n",
      "  Iteration 5 took 3.4s\n",
      "  \n",
      "--- Iterative GST: Iter 6 of 7  550 circuits ---: \n",
      "  MatrixLayout: 1 processors divided into 1 x 1 (= 1) grid along circuit and parameter directions.\n",
      "     1 atoms, parameter block size limits (None,)\n",
      "  *** Distributing 1 atoms to 1 atom-processing groups (1 cores) ***\n",
      "      More atom-processors than hosts: each host gets ~1 atom-processors\n",
      "      Atom-processors already occupy a single node, dividing atom-processor into 1 param-processors.\n",
      "  *** Divided 1-host atom-processor (~1 procs) into 1 param-processing groups ***\n",
      "  --- chi2 GST ---\n",
      "  Sum of Chi^2 = 515.793 (550 data params - 48 (approx) model params = expected mean of 502; p-value = 0.325496)\n",
      "  Completed in 2.6s\n",
      "  Iteration 6 took 2.7s\n",
      "  \n",
      "--- Iterative GST: Iter 7 of 7  679 circuits ---: \n",
      "  MatrixLayout: 1 processors divided into 1 x 1 (= 1) grid along circuit and parameter directions.\n",
      "     1 atoms, parameter block size limits (None,)\n",
      "  *** Distributing 1 atoms to 1 atom-processing groups (1 cores) ***\n",
      "      More atom-processors than hosts: each host gets ~1 atom-processors\n",
      "      Atom-processors already occupy a single node, dividing atom-processor into 1 param-processors.\n",
      "  *** Divided 1-host atom-processor (~1 procs) into 1 param-processing groups ***\n",
      "  --- chi2 GST ---\n",
      "  Sum of Chi^2 = 675.77 (679 data params - 48 (approx) model params = expected mean of 631; p-value = 0.105596)\n",
      "  Completed in 1.9s\n",
      "  Iteration 7 took 2.1s\n",
      "  \n",
      "  Last iteration:\n",
      "  --- dlogl GST ---\n",
      "  2*Delta(log(L)) = 687.609 (679 data params - 48 (approx) model params = expected mean of 631; p-value = 0.0585759)\n",
      "  Completed in 1.1s\n",
      "  Final optimization took 1.1s\n",
      "  \n",
      "Iterative GST Total Time: 18.5s\n",
      "Running idle tomography\n",
      "Computing switchable properties\n",
      "../GST_Reports/GST_XZ_report\n"
     ]
    }
   ],
   "source": [
    "results = gst.run_and_report()"
   ],
   "metadata": {
    "collapsed": false,
    "ExecuteTime": {
     "end_time": "2023-05-03T17:40:46.080096560Z",
     "start_time": "2023-05-03T17:40:15.154480558Z"
    }
   }
  }
 ],
 "metadata": {
  "kernelspec": {
   "display_name": "Python 3",
   "language": "python",
   "name": "python3"
  },
  "language_info": {
   "codemirror_mode": {
    "name": "ipython",
    "version": 2
   },
   "file_extension": ".py",
   "mimetype": "text/x-python",
   "name": "python",
   "nbconvert_exporter": "python",
   "pygments_lexer": "ipython2",
   "version": "2.7.6"
  }
 },
 "nbformat": 4,
 "nbformat_minor": 0
}
