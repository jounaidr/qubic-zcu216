{
 "cells": [
  {
   "cell_type": "code",
   "execution_count": 36,
   "metadata": {
    "collapsed": true,
    "ExecuteTime": {
     "end_time": "2023-05-08T01:00:31.208158342Z",
     "start_time": "2023-05-08T01:00:31.112080801Z"
    }
   },
   "outputs": [],
   "source": [
    "from importlib import reload\n",
    "import qubic.job_manager_jpm as _jm\n",
    "import chipcalibration.ramsey_jpm as _ramsey\n",
    "from matplotlib import pyplot as plt\n",
    "from distproc.hwconfig import FPGAConfig, load_channel_configs\n",
    "import chipcalibration.config as _cfg\n",
    "import qubic.rpc_client as _rc\n",
    "import numpy as np\n",
    "import pygsti\n",
    "from pygsti.models import modelconstruction as _mc"
   ]
  },
  {
   "cell_type": "code",
   "execution_count": 37,
   "outputs": [
    {
     "data": {
      "text/plain": "<module 'chipcalibration.ramsey_jpm' from '/home/jpmarceaux/PycharmProjects/chipcalibration/chipcalibration/ramsey_jpm.py'>"
     },
     "execution_count": 37,
     "metadata": {},
     "output_type": "execute_result"
    }
   ],
   "source": [
    "reload(_jm)\n",
    "reload(_ramsey)"
   ],
   "metadata": {
    "collapsed": false,
    "ExecuteTime": {
     "end_time": "2023-05-08T01:00:31.488863452Z",
     "start_time": "2023-05-08T01:00:31.402498442Z"
    }
   }
  },
  {
   "cell_type": "code",
   "execution_count": 38,
   "outputs": [],
   "source": [
    "fpga_config = FPGAConfig(**{'fpga_clk_period': 2.e-9, 'alu_instr_clks': 5, 'jump_cond_clks': 5, 'jump_fproc_clks': 5,\n",
    "                            'pulse_regwrite_clks': 3})\n",
    "\n",
    "qchipname = 'X4Y2'\n",
    "fpga_config, qchip, channel_config = _cfg.load_configs(qchipname, qchip_file='qubitcfg.json')\n",
    "\n"
   ],
   "metadata": {
    "collapsed": false,
    "ExecuteTime": {
     "end_time": "2023-05-08T01:00:31.870816086Z",
     "start_time": "2023-05-08T01:00:31.758201121Z"
    }
   }
  },
  {
   "cell_type": "code",
   "execution_count": 39,
   "outputs": [],
   "source": [
    "# setup a qubic jobmanager\n",
    "runner = _rc.CircuitRunnerClient(ip='192.168.1.247')\n",
    "jm = _jm.JobManager(fpga_config, channel_config, runner)"
   ],
   "metadata": {
    "collapsed": false,
    "ExecuteTime": {
     "end_time": "2023-05-08T01:00:32.672471438Z",
     "start_time": "2023-05-08T01:00:32.581690061Z"
    }
   }
  },
  {
   "cell_type": "code",
   "execution_count": 46,
   "outputs": [
    {
     "name": "stdout",
     "output_type": "stream",
     "text": [
      "Initial drive frequency: 4943277065.23312\n"
     ]
    }
   ],
   "source": [
    "target_qid = 'Q2'\n",
    "readout_register = ['Q1', 'Q2']\n",
    "delay_interval = np.linspace(0,50.e-6,75)\n",
    "initial_drive_frequency = qchip.qubits['Q2'].freq\n",
    "print('Initial drive frequency:', initial_drive_frequency)"
   ],
   "metadata": {
    "collapsed": false,
    "ExecuteTime": {
     "end_time": "2023-05-08T01:01:34.861617116Z",
     "start_time": "2023-05-08T01:01:34.779901118Z"
    }
   }
  },
  {
   "cell_type": "code",
   "execution_count": 47,
   "outputs": [],
   "source": [
    "# setup a simulation manager\n",
    "# make the processor spec\n",
    "register = ['Q1']  # these correspond to the actual qubit id's on the qubic device\n",
    "gate_names = ['Gxpi2', 'Gzpi2']\n",
    "\n",
    "availability = {\n",
    "    'Gxpi2': [(qid,) for qid in register],\n",
    "    'Gzpi2': [(qid,) for qid in register],\n",
    "}\n",
    "\n",
    "pspec = pygsti.processors.QubitProcessorSpec(num_qubits=len(register), gate_names=gate_names,\n",
    "                                             availability=availability, qubit_labels=register)\n",
    "\n",
    "# make a pygsti simulation manager\n",
    "model = _mc.create_explicit_model(pspec)\n",
    "model.set_all_parameterizations('TP')\n",
    "model = model.depolarize(0.01)\n",
    "sim_manager = _jm.SimulationManager(model)\n"
   ],
   "metadata": {
    "collapsed": false,
    "ExecuteTime": {
     "end_time": "2023-05-08T01:01:35.174557747Z",
     "start_time": "2023-05-08T01:01:34.985092846Z"
    }
   }
  },
  {
   "cell_type": "code",
   "execution_count": 49,
   "outputs": [],
   "source": [
    "iramsey = _ramsey.RamseyExperiment([target_qid], readout_register, delay_interval, initial_drive_frequency)"
   ],
   "metadata": {
    "collapsed": false,
    "ExecuteTime": {
     "end_time": "2023-05-08T01:02:29.367724158Z",
     "start_time": "2023-05-08T01:02:29.304173610Z"
    }
   }
  },
  {
   "cell_type": "code",
   "execution_count": 50,
   "outputs": [
    {
     "ename": "TypeError",
     "evalue": "SimulationManager.collect_classified_shots() got multiple values for argument 'reads_per_shot'",
     "output_type": "error",
     "traceback": [
      "\u001B[0;31m---------------------------------------------------------------------------\u001B[0m",
      "\u001B[0;31mTypeError\u001B[0m                                 Traceback (most recent call last)",
      "Cell \u001B[0;32mIn[50], line 1\u001B[0m\n\u001B[0;32m----> 1\u001B[0m \u001B[43miramsey\u001B[49m\u001B[38;5;241;43m.\u001B[39;49m\u001B[43mrun_ramsey\u001B[49m\u001B[43m(\u001B[49m\u001B[43minitial_drive_frequency\u001B[49m\u001B[43m,\u001B[49m\u001B[43m \u001B[49m\u001B[43mdelay_interval\u001B[49m\u001B[43m,\u001B[49m\u001B[43m \u001B[49m\u001B[43msim_manager\u001B[49m\u001B[43m,\u001B[49m\u001B[43m \u001B[49m\u001B[38;5;241;43m1000\u001B[39;49m\u001B[43m,\u001B[49m\u001B[43m \u001B[49m\u001B[43mqchip\u001B[49m\u001B[38;5;241;43m=\u001B[39;49m\u001B[38;5;28;43;01mNone\u001B[39;49;00m\u001B[43m)\u001B[49m\n",
      "File \u001B[0;32m~/PycharmProjects/chipcalibration/chipcalibration/ramsey_jpm.py:46\u001B[0m, in \u001B[0;36mRamseyExperiment.run_ramsey\u001B[0;34m(self, drive_frequency, delay_interval, jobmanager, num_shots_per_circuit, qchip)\u001B[0m\n\u001B[1;32m     44\u001B[0m \u001B[38;5;28;01mdef\u001B[39;00m \u001B[38;5;21mrun_ramsey\u001B[39m(\u001B[38;5;28mself\u001B[39m, drive_frequency, delay_interval, jobmanager, num_shots_per_circuit, qchip):\n\u001B[1;32m     45\u001B[0m     circuits \u001B[38;5;241m=\u001B[39m \u001B[38;5;28mself\u001B[39m\u001B[38;5;241m.\u001B[39mramsey_circuits(drive_frequency, delay_interval)\n\u001B[0;32m---> 46\u001B[0m     \u001B[38;5;28;01mreturn\u001B[39;00m \u001B[43mjobmanager\u001B[49m\u001B[38;5;241;43m.\u001B[39;49m\u001B[43mcollect_classified_shots\u001B[49m\u001B[43m(\u001B[49m\u001B[43mcircuits\u001B[49m\u001B[43m,\u001B[49m\u001B[43m \u001B[49m\u001B[43mnum_shots_per_circuit\u001B[49m\u001B[43m,\u001B[49m\u001B[43m \u001B[49m\u001B[43mqchip\u001B[49m\u001B[43m,\u001B[49m\n\u001B[1;32m     47\u001B[0m \u001B[43m                                                \u001B[49m\u001B[43mreads_per_shot\u001B[49m\u001B[38;5;241;43m=\u001B[39;49m\u001B[38;5;28;43mlen\u001B[39;49m\u001B[43m(\u001B[49m\u001B[38;5;28;43mself\u001B[39;49m\u001B[38;5;241;43m.\u001B[39;49m\u001B[43mdelay_interval\u001B[49m\u001B[43m)\u001B[49m\u001B[43m,\u001B[49m\n\u001B[1;32m     48\u001B[0m \u001B[43m                                                \u001B[49m\u001B[43mdelay_per_shot\u001B[49m\u001B[38;5;241;43m=\u001B[39;49m\u001B[43m(\u001B[49m\u001B[38;5;241;43m500.e-6\u001B[39;49m\u001B[38;5;241;43m*\u001B[39;49m\u001B[38;5;28;43mlen\u001B[39;49m\u001B[43m(\u001B[49m\u001B[38;5;28;43mself\u001B[39;49m\u001B[38;5;241;43m.\u001B[39;49m\u001B[43mdelay_interval\u001B[49m\u001B[43m)\u001B[49m\u001B[43m)\u001B[49m\u001B[38;5;241;43m+\u001B[39;49m\u001B[38;5;28;43msum\u001B[39;49m\u001B[43m(\u001B[49m\u001B[38;5;28;43mself\u001B[39;49m\u001B[38;5;241;43m.\u001B[39;49m\u001B[43mdelay_interval\u001B[49m\u001B[43m)\u001B[49m\u001B[43m \u001B[49m\u001B[43m)\u001B[49m\n",
      "\u001B[0;31mTypeError\u001B[0m: SimulationManager.collect_classified_shots() got multiple values for argument 'reads_per_shot'"
     ]
    }
   ],
   "source": [
    "iramsey.run_ramsey(initial_drive_frequency, delay_interval, sim_manager, 1000, qchip=None)"
   ],
   "metadata": {
    "collapsed": false,
    "ExecuteTime": {
     "end_time": "2023-05-08T01:03:06.786718371Z",
     "start_time": "2023-05-08T01:03:06.717795957Z"
    }
   }
  },
  {
   "cell_type": "code",
   "execution_count": null,
   "outputs": [],
   "source": [
    "# TODO setup the simulation manager to take midcircuit measurements"
   ],
   "metadata": {
    "collapsed": false
   }
  }
 ],
 "metadata": {
  "kernelspec": {
   "display_name": "Python 3",
   "language": "python",
   "name": "python3"
  },
  "language_info": {
   "codemirror_mode": {
    "name": "ipython",
    "version": 2
   },
   "file_extension": ".py",
   "mimetype": "text/x-python",
   "name": "python",
   "nbconvert_exporter": "python",
   "pygments_lexer": "ipython2",
   "version": "2.7.6"
  }
 },
 "nbformat": 4,
 "nbformat_minor": 0
}
